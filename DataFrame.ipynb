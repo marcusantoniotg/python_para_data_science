{
  "nbformat": 4,
  "nbformat_minor": 0,
  "metadata": {
    "colab": {
      "name": "DataFrame.ipynb",
      "private_outputs": true,
      "provenance": [],
      "authorship_tag": "ABX9TyNz3TY7Mqwk+pN+LdItByNW",
      "include_colab_link": true
    },
    "kernelspec": {
      "name": "python3",
      "display_name": "Python 3"
    },
    "language_info": {
      "name": "python"
    }
  },
  "cells": [
    {
      "cell_type": "markdown",
      "metadata": {
        "id": "view-in-github",
        "colab_type": "text"
      },
      "source": [
        "<a href=\"https://colab.research.google.com/github/marcusantoniotg/python_para_data_science/blob/main/DataFrame.ipynb\" target=\"_parent\"><img src=\"https://colab.research.google.com/assets/colab-badge.svg\" alt=\"Open In Colab\"/></a>"
      ]
    },
    {
      "cell_type": "code",
      "metadata": {
        "id": "p-nkoUSNt51s"
      },
      "source": [
        "import pandas as pd \n",
        "import numpy as np\n",
        "\n",
        "np.random.seed(101)\n",
        "df = pd.DataFrame(np.random.rand (5,4), index='A B C D E'.split(), columns='W X Y Z'.split())\n",
        "\n",
        "df"
      ],
      "execution_count": null,
      "outputs": []
    },
    {
      "cell_type": "code",
      "metadata": {
        "id": "095yqA7-vV2b"
      },
      "source": [
        "df['W']"
      ],
      "execution_count": null,
      "outputs": []
    },
    {
      "cell_type": "code",
      "metadata": {
        "id": "CZ7LjNf-vzMq"
      },
      "source": [
        "type(df['W'])"
      ],
      "execution_count": null,
      "outputs": []
    },
    {
      "cell_type": "code",
      "metadata": {
        "id": "nit-Amaxv1kj"
      },
      "source": [
        "type(df)"
      ],
      "execution_count": null,
      "outputs": []
    },
    {
      "cell_type": "code",
      "metadata": {
        "id": "KxJoyjf9v1zJ"
      },
      "source": [
        "df[['W','Z']]"
      ],
      "execution_count": null,
      "outputs": []
    },
    {
      "cell_type": "code",
      "metadata": {
        "id": "U7jBUeB5v18-"
      },
      "source": [
        "df.W"
      ],
      "execution_count": null,
      "outputs": []
    },
    {
      "cell_type": "code",
      "metadata": {
        "id": "FeF9CDZCwJTD"
      },
      "source": [
        "df['new'] = df['W'] + df[\"X\"]"
      ],
      "execution_count": null,
      "outputs": []
    },
    {
      "cell_type": "code",
      "metadata": {
        "id": "cJ5_vG3CwR__"
      },
      "source": [
        "df"
      ],
      "execution_count": null,
      "outputs": []
    },
    {
      "cell_type": "code",
      "metadata": {
        "id": "hVtWphu1wgaX"
      },
      "source": [
        "df.drop('new', axis=1, inplace=True)"
      ],
      "execution_count": null,
      "outputs": []
    },
    {
      "cell_type": "code",
      "metadata": {
        "id": "tQPZijLAw7-w"
      },
      "source": [
        "df"
      ],
      "execution_count": null,
      "outputs": []
    },
    {
      "cell_type": "code",
      "metadata": {
        "id": "VLKJBnyvhCrm"
      },
      "source": [
        "df.loc['A']"
      ],
      "execution_count": null,
      "outputs": []
    },
    {
      "cell_type": "code",
      "metadata": {
        "id": "36MQZ1AOhH3Y"
      },
      "source": [
        "df.loc [['A','B'],['X','Y','Z']]"
      ],
      "execution_count": null,
      "outputs": []
    },
    {
      "cell_type": "code",
      "metadata": {
        "id": "K_qVwVEThkGU"
      },
      "source": [
        "df.iloc[1:4,2:]"
      ],
      "execution_count": null,
      "outputs": []
    }
  ]
}